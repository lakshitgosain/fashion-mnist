{
  "nbformat": 4,
  "nbformat_minor": 0,
  "metadata": {
    "colab": {
      "name": "Tensorflow_5.ipynb",
      "provenance": [],
      "authorship_tag": "ABX9TyM3/v5xYtgzM5/0QiDCC/A0",
      "include_colab_link": true
    },
    "kernelspec": {
      "name": "python3",
      "display_name": "Python 3"
    }
  },
  "cells": [
    {
      "cell_type": "markdown",
      "metadata": {
        "id": "view-in-github",
        "colab_type": "text"
      },
      "source": [
        "<a href=\"https://colab.research.google.com/github/lakshitgosain/fashion-mnist/blob/main/Tensorflow_5.ipynb\" target=\"_parent\"><img src=\"https://colab.research.google.com/assets/colab-badge.svg\" alt=\"Open In Colab\"/></a>"
      ]
    },
    {
      "cell_type": "code",
      "metadata": {
        "id": "jn1ERmVdqDFe"
      },
      "source": [
        "###Neural Networks with Tensorflow####\n"
      ],
      "execution_count": null,
      "outputs": []
    },
    {
      "cell_type": "code",
      "metadata": {
        "id": "hktMlqHKqTJ1"
      },
      "source": [
        "%tensorflow_version 2.x"
      ],
      "execution_count": null,
      "outputs": []
    },
    {
      "cell_type": "code",
      "metadata": {
        "id": "zzRbiC_1Cu6I"
      },
      "source": [
        "import tensorflow as tf\n",
        "from tensorflow import keras"
      ],
      "execution_count": null,
      "outputs": []
    },
    {
      "cell_type": "code",
      "metadata": {
        "id": "M0nX2jt7Czgc"
      },
      "source": [
        "import numpy as np\n",
        "import pandas as pd\n",
        "import matplotlib.pyplot as plt"
      ],
      "execution_count": null,
      "outputs": []
    },
    {
      "cell_type": "code",
      "metadata": {
        "id": "1FSjJrWLC3ap"
      },
      "source": [
        "fashion_mnist=keras.datasets.fashion_mnist\n",
        "(train_images,train_labels), (test_images,test_labels)=fashion_mnist.load_data()"
      ],
      "execution_count": null,
      "outputs": []
    },
    {
      "cell_type": "code",
      "metadata": {
        "id": "sOBJIwSJDJUk",
        "colab": {
          "base_uri": "https://localhost:8080/"
        },
        "outputId": "67cbb8b5-bcac-48e3-9fc1-d53383eb7ca7"
      },
      "source": [
        "train_images.shape #We have 60000 images of 28*28 pixels"
      ],
      "execution_count": null,
      "outputs": [
        {
          "output_type": "execute_result",
          "data": {
            "text/plain": [
              "(60000, 28, 28)"
            ]
          },
          "metadata": {
            "tags": []
          },
          "execution_count": 9
        }
      ]
    },
    {
      "cell_type": "code",
      "metadata": {
        "id": "g5WH6rc1DR8P",
        "colab": {
          "base_uri": "https://localhost:8080/"
        },
        "outputId": "960c9e33-de61-4537-a999-4153210a53a6"
      },
      "source": [
        " train_labels[:10]"
      ],
      "execution_count": null,
      "outputs": [
        {
          "output_type": "execute_result",
          "data": {
            "text/plain": [
              "array([9, 0, 0, 3, 0, 2, 7, 2, 5, 5], dtype=uint8)"
            ]
          },
          "metadata": {
            "tags": []
          },
          "execution_count": 10
        }
      ]
    },
    {
      "cell_type": "code",
      "metadata": {
        "id": "ZeIa8YGwD8SB",
        "colab": {
          "base_uri": "https://localhost:8080/",
          "height": 265
        },
        "outputId": "fdf56ff0-5a4e-47aa-bb4e-4aff0dd8eac5"
      },
      "source": [
        "plt.figure()\n",
        "plt.imshow(train_images[1])\n",
        "plt.colorbar()\n",
        "plt.grid(False)\n",
        "plt.show()"
      ],
      "execution_count": null,
      "outputs": [
        {
          "output_type": "display_data",
          "data": {
            "image/png": "[encoded data removed]",
            "text/plain": [
              "<Figure size 432x288 with 2 Axes>"
            ]
          },
          "metadata": {
            "tags": [],
            "needs_background": "light"
          }
        }
      ]
    },
    {
      "cell_type": "code",
      "metadata": {
        "id": "OAsvjwYVEGRm"
      },
      "source": [
        "train_images=train_images/255."
      ],
      "execution_count": null,
      "outputs": []
    },
    {
      "cell_type": "code",
      "metadata": {
        "id": "Xlg65fSgEjfP",
        "colab": {
          "base_uri": "https://localhost:8080/",
          "height": 269
        },
        "outputId": "a993adbb-4a4a-4ea2-8ea1-3c746dbfb860"
      },
      "source": [
        "plt.figure()\n",
        "plt.imshow(train_images[1])\n",
        "plt.colorbar()\n",
        "plt.grid(False)\n",
        "plt.show()"
      ],
      "execution_count": null,
      "outputs": [
        {
          "output_type": "display_data",
          "data": {
            "image/png": "[encoded data removed]",
            "text/plain": [
              "<Figure size 432x288 with 2 Axes>"
            ]
          },
          "metadata": {
            "tags": [],
            "needs_background": "light"
          }
        }
      ]
    },
    {
      "cell_type": "code",
      "metadata": {
        "id": "VUkmvnryElDX",
        "colab": {
          "base_uri": "https://localhost:8080/"
        },
        "outputId": "a59573be-3694-4d91-addf-7af331e5b99b"
      },
      "source": [
        "train_images[1]"
      ],
      "execution_count": null,
      "outputs": [
        {
          "output_type": "execute_result",
          "data": {
            "text/plain": [
              "array([[0.        , 0.        , 0.        , 0.        , 0.        ,\n",
              "        0.00392157, 0.        , 0.        , 0.        , 0.        ,\n",
              "        0.16078431, 0.7372549 , 0.40392157, 0.21176471, 0.18823529,\n",
              "        0.16862745, 0.34117647, 0.65882353, 0.52156863, 0.0627451 ,\n",
              "        0.        , 0.        , 0.        , 0.        , 0.        ,\n",
              "        0.        , 0.        , 0.        ],\n",
              "       [0.        , 0.        , 0.        , 0.00392157, 0.        ,\n",
              "        0.        , 0.        , 0.19215686, 0.53333333, 0.85882353,\n",
              "        0.84705882, 0.89411765, 0.9254902 , 1.        , 1.        ,\n",
              "        1.        , 1.        , 0.85098039, 0.84313725, 0.99607843,\n",
              "        0.90588235, 0.62745098, 0.17647059, 0.        , 0.        ,\n",
              "        0.        , 0.        , 0.        ],\n",
              "       [0.        , 0.        , 0.        , 0.        , 0.        ,\n",
              "        0.05490196, 0.69019608, 0.87058824, 0.87843137, 0.83137255,\n",
              "        0.79607843, 0.77647059, 0.76862745, 0.78431373, 0.84313725,\n",
              "        0.8       , 0.79215686, 0.78823529, 0.78823529, 0.78823529,\n",
              "        0.81960784, 0.85490196, 0.87843137, 0.64313725, 0.        ,\n",
              "        0.        , 0.        , 0.        ],\n",
              "       [0.        , 0.        , 0.        , 0.        , 0.        ,\n",
              "        0.7372549 , 0.85882353, 0.78431373, 0.77647059, 0.79215686,\n",
              "        0.77647059, 0.78039216, 0.78039216, 0.78823529, 0.76862745,\n",
              "        0.77647059, 0.77647059, 0.78431373, 0.78431373, 0.78431373,\n",
              "        0.78431373, 0.78823529, 0.78431373, 0.88235294, 0.16078431,\n",
              "        0.        , 0.        , 0.        ],\n",
              "       [0.        , 0.        , 0.        , 0.        , 0.2       ,\n",
              "        0.85882353, 0.78039216, 0.79607843, 0.79607843, 0.83137255,\n",
              "        0.93333333, 0.97254902, 0.98039216, 0.96078431, 0.97647059,\n",
              "        0.96470588, 0.96862745, 0.98823529, 0.97254902, 0.92156863,\n",
              "        0.81176471, 0.79607843, 0.79607843, 0.87058824, 0.54901961,\n",
              "        0.        , 0.        , 0.        ],\n",
              "       [0.        , 0.        , 0.        , 0.        , 0.45490196,\n",
              "        0.88627451, 0.80784314, 0.8       , 0.81176471, 0.8       ,\n",
              "        0.39607843, 0.29411765, 0.18431373, 0.28627451, 0.18823529,\n",
              "        0.19607843, 0.17647059, 0.2       , 0.24705882, 0.44313725,\n",
              "        0.87058824, 0.79215686, 0.80784314, 0.8627451 , 0.87843137,\n",
              "        0.        , 0.        , 0.        ],\n",
              "       [0.        , 0.        , 0.        , 0.        , 0.78431373,\n",
              "        0.87058824, 0.81960784, 0.79607843, 0.84313725, 0.78431373,\n",
              "        0.        , 0.2745098 , 0.38431373, 0.        , 0.40392157,\n",
              "        0.23137255, 0.26666667, 0.27843137, 0.19215686, 0.        ,\n",
              "        0.85882353, 0.80784314, 0.83921569, 0.82352941, 0.98039216,\n",
              "        0.14901961, 0.        , 0.        ],\n",
              "       [0.        , 0.        , 0.        , 0.        , 0.96862745,\n",
              "        0.85490196, 0.83137255, 0.82352941, 0.84313725, 0.83921569,\n",
              "        0.        , 0.99607843, 0.95294118, 0.54509804, 1.        ,\n",
              "        0.68235294, 0.98431373, 1.        , 0.80392157, 0.        ,\n",
              "        0.84313725, 0.85098039, 0.83921569, 0.81568627, 0.8627451 ,\n",
              "        0.37254902, 0.        , 0.        ],\n",
              "       [0.        , 0.        , 0.        , 0.17647059, 0.88627451,\n",
              "        0.83921569, 0.83921569, 0.84313725, 0.87843137, 0.80392157,\n",
              "        0.        , 0.16470588, 0.1372549 , 0.23529412, 0.0627451 ,\n",
              "        0.06666667, 0.04705882, 0.05098039, 0.2745098 , 0.        ,\n",
              "        0.74117647, 0.84705882, 0.83137255, 0.80784314, 0.83137255,\n",
              "        0.61176471, 0.        , 0.        ],\n",
              "       [0.        , 0.        , 0.        , 0.64313725, 0.92156863,\n",
              "        0.83921569, 0.82745098, 0.8627451 , 0.84705882, 0.78823529,\n",
              "        0.20392157, 0.27843137, 0.34901961, 0.36862745, 0.3254902 ,\n",
              "        0.30588235, 0.2745098 , 0.29803922, 0.36078431, 0.34117647,\n",
              "        0.80784314, 0.81176471, 0.87058824, 0.83529412, 0.85882353,\n",
              "        0.81568627, 0.        , 0.        ],\n",
              "       [0.        , 0.        , 0.        , 0.41568627, 0.73333333,\n",
              "        0.8745098 , 0.92941176, 0.97254902, 0.82745098, 0.77647059,\n",
              "        0.98823529, 0.98039216, 0.97254902, 0.96078431, 0.97254902,\n",
              "        0.98823529, 0.99215686, 0.98039216, 0.98823529, 0.9372549 ,\n",
              "        0.78823529, 0.83137255, 0.88235294, 0.84313725, 0.75686275,\n",
              "        0.44313725, 0.        , 0.        ],\n",
              "       [0.        , 0.        , 0.        , 0.        , 0.        ,\n",
              "        0.06666667, 0.21176471, 0.62352941, 0.87058824, 0.75686275,\n",
              "        0.81568627, 0.75294118, 0.77254902, 0.78431373, 0.78431373,\n",
              "        0.78431373, 0.78431373, 0.78823529, 0.79607843, 0.76470588,\n",
              "        0.82352941, 0.64705882, 0.        , 0.        , 0.        ,\n",
              "        0.        , 0.        , 0.        ],\n",
              "       [0.        , 0.        , 0.        , 0.        , 0.        ,\n",
              "        0.        , 0.        , 0.18431373, 0.88235294, 0.75294118,\n",
              "        0.83921569, 0.79607843, 0.80784314, 0.8       , 0.8       ,\n",
              "        0.80392157, 0.80784314, 0.8       , 0.83137255, 0.77254902,\n",
              "        0.85490196, 0.41960784, 0.        , 0.        , 0.        ,\n",
              "        0.        , 0.        , 0.        ],\n",
              "       [0.        , 0.        , 0.        , 0.        , 0.00392157,\n",
              "        0.02352941, 0.        , 0.18039216, 0.83137255, 0.76470588,\n",
              "        0.83137255, 0.79215686, 0.80784314, 0.80392157, 0.8       ,\n",
              "        0.80392157, 0.80784314, 0.8       , 0.83137255, 0.78431373,\n",
              "        0.85490196, 0.35686275, 0.        , 0.01176471, 0.00392157,\n",
              "        0.        , 0.        , 0.        ],\n",
              "       [0.        , 0.        , 0.        , 0.        , 0.        ,\n",
              "        0.00392157, 0.        , 0.04313725, 0.77254902, 0.78039216,\n",
              "        0.80392157, 0.79215686, 0.80392157, 0.80784314, 0.8       ,\n",
              "        0.80392157, 0.81176471, 0.8       , 0.80392157, 0.80392157,\n",
              "        0.85490196, 0.30196078, 0.        , 0.01960784, 0.        ,\n",
              "        0.        , 0.        , 0.        ],\n",
              "       [0.        , 0.        , 0.        , 0.        , 0.        ,\n",
              "        0.01176471, 0.        , 0.00784314, 0.74901961, 0.77647059,\n",
              "        0.78823529, 0.80392157, 0.80784314, 0.80392157, 0.80392157,\n",
              "        0.80784314, 0.81960784, 0.80784314, 0.78039216, 0.81960784,\n",
              "        0.85882353, 0.29019608, 0.        , 0.01960784, 0.        ,\n",
              "        0.        , 0.        , 0.        ],\n",
              "       [0.        , 0.        , 0.        , 0.        , 0.        ,\n",
              "        0.00784314, 0.        , 0.        , 0.7372549 , 0.77254902,\n",
              "        0.78431373, 0.81176471, 0.81176471, 0.8       , 0.81176471,\n",
              "        0.81176471, 0.82352941, 0.81568627, 0.77647059, 0.81176471,\n",
              "        0.86666667, 0.28235294, 0.        , 0.01568627, 0.        ,\n",
              "        0.        , 0.        , 0.        ],\n",
              "       [0.        , 0.        , 0.        , 0.        , 0.        ,\n",
              "        0.00784314, 0.        , 0.        , 0.84313725, 0.77647059,\n",
              "        0.79607843, 0.80784314, 0.81568627, 0.80392157, 0.81176471,\n",
              "        0.81176471, 0.82352941, 0.81568627, 0.78431373, 0.79215686,\n",
              "        0.87058824, 0.29411765, 0.        , 0.01568627, 0.        ,\n",
              "        0.        , 0.        , 0.        ],\n",
              "       [0.        , 0.        , 0.        , 0.        , 0.        ,\n",
              "        0.00392157, 0.        , 0.        , 0.83137255, 0.77647059,\n",
              "        0.81960784, 0.80784314, 0.81960784, 0.80784314, 0.81568627,\n",
              "        0.81176471, 0.82745098, 0.80784314, 0.80392157, 0.77647059,\n",
              "        0.86666667, 0.31372549, 0.        , 0.01176471, 0.        ,\n",
              "        0.        , 0.        , 0.        ],\n",
              "       [0.        , 0.        , 0.        , 0.        , 0.        ,\n",
              "        0.00392157, 0.        , 0.        , 0.8       , 0.78823529,\n",
              "        0.80392157, 0.81568627, 0.81176471, 0.80392157, 0.82745098,\n",
              "        0.80392157, 0.82352941, 0.82352941, 0.81960784, 0.76470588,\n",
              "        0.86666667, 0.37647059, 0.        , 0.01176471, 0.        ,\n",
              "        0.        , 0.        , 0.        ],\n",
              "       [0.        , 0.        , 0.        , 0.        , 0.        ,\n",
              "        0.00392157, 0.        , 0.        , 0.79215686, 0.78823529,\n",
              "        0.80392157, 0.81960784, 0.81176471, 0.80392157, 0.83529412,\n",
              "        0.80784314, 0.82352941, 0.81960784, 0.82352941, 0.76078431,\n",
              "        0.85098039, 0.41176471, 0.        , 0.00784314, 0.        ,\n",
              "        0.        , 0.        , 0.        ],\n",
              "       [0.        , 0.        , 0.        , 0.        , 0.        ,\n",
              "        0.00392157, 0.        , 0.        , 0.8       , 0.8       ,\n",
              "        0.80392157, 0.81568627, 0.81176471, 0.80392157, 0.84313725,\n",
              "        0.81176471, 0.82352941, 0.81568627, 0.82745098, 0.75686275,\n",
              "        0.83529412, 0.45098039, 0.        , 0.00784314, 0.        ,\n",
              "        0.        , 0.        , 0.        ],\n",
              "       [0.        , 0.        , 0.        , 0.        , 0.        ,\n",
              "        0.        , 0.        , 0.        , 0.8       , 0.81176471,\n",
              "        0.81176471, 0.81568627, 0.80784314, 0.80784314, 0.84313725,\n",
              "        0.82352941, 0.82352941, 0.81176471, 0.83137255, 0.76470588,\n",
              "        0.82352941, 0.4627451 , 0.        , 0.00784314, 0.        ,\n",
              "        0.        , 0.        , 0.        ],\n",
              "       [0.        , 0.        , 0.        , 0.        , 0.        ,\n",
              "        0.00392157, 0.        , 0.        , 0.77647059, 0.81568627,\n",
              "        0.81568627, 0.81568627, 0.8       , 0.81176471, 0.83137255,\n",
              "        0.83137255, 0.82352941, 0.81176471, 0.82745098, 0.76862745,\n",
              "        0.81176471, 0.4745098 , 0.        , 0.00392157, 0.        ,\n",
              "        0.        , 0.        , 0.        ],\n",
              "       [0.        , 0.        , 0.        , 0.        , 0.        ,\n",
              "        0.00392157, 0.        , 0.        , 0.77647059, 0.82352941,\n",
              "        0.81176471, 0.81568627, 0.80784314, 0.81960784, 0.83529412,\n",
              "        0.83137255, 0.82745098, 0.81176471, 0.82352941, 0.77254902,\n",
              "        0.81176471, 0.48627451, 0.        , 0.00392157, 0.        ,\n",
              "        0.        , 0.        , 0.        ],\n",
              "       [0.        , 0.        , 0.        , 0.        , 0.        ,\n",
              "        0.        , 0.        , 0.        , 0.6745098 , 0.82352941,\n",
              "        0.79607843, 0.78823529, 0.78039216, 0.8       , 0.81176471,\n",
              "        0.80392157, 0.8       , 0.78823529, 0.80392157, 0.77254902,\n",
              "        0.80784314, 0.49803922, 0.        , 0.        , 0.        ,\n",
              "        0.        , 0.        , 0.        ],\n",
              "       [0.        , 0.        , 0.        , 0.        , 0.        ,\n",
              "        0.        , 0.        , 0.        , 0.7372549 , 0.86666667,\n",
              "        0.83921569, 0.91764706, 0.9254902 , 0.93333333, 0.95686275,\n",
              "        0.95686275, 0.95686275, 0.94117647, 0.95294118, 0.83921569,\n",
              "        0.87843137, 0.63529412, 0.        , 0.00784314, 0.        ,\n",
              "        0.        , 0.        , 0.        ],\n",
              "       [0.        , 0.        , 0.        , 0.        , 0.        ,\n",
              "        0.00392157, 0.        , 0.        , 0.54509804, 0.57254902,\n",
              "        0.50980392, 0.52941176, 0.52941176, 0.5372549 , 0.49019608,\n",
              "        0.48627451, 0.49019608, 0.4745098 , 0.46666667, 0.44705882,\n",
              "        0.50980392, 0.29803922, 0.        , 0.        , 0.        ,\n",
              "        0.        , 0.        , 0.        ]])"
            ]
          },
          "metadata": {
            "tags": []
          },
          "execution_count": 17
        }
      ]
    },
    {
      "cell_type": "code",
      "metadata": {
        "id": "jLSDW6LnEnMY"
      },
      "source": [
        "test_images=train_images/255."
      ],
      "execution_count": null,
      "outputs": []
    },
    {
      "cell_type": "code",
      "metadata": {
        "id": "1OfL1AxKEslq"
      },
      "source": [
        "model=keras.Sequential([keras.layers.Flatten(input_shape=(28,28)),\n",
        "                        keras.layers.Dense(128, activation='relu'),\n",
        "                        keras.layers.Dense(10,activation='softmax')])"
      ],
      "execution_count": null,
      "outputs": []
    },
    {
      "cell_type": "code",
      "metadata": {
        "id": "Ux1ZKb7QFYUk"
      },
      "source": [
        "class_names=['T-shirt/top','Trouser','Pullover','Dress','Coat','Sandal','Shirt','Sneaker','Bag','Ankle Boot']"
      ],
      "execution_count": null,
      "outputs": []
    },
    {
      "cell_type": "code",
      "metadata": {
        "id": "t55MZm77F3mp"
      },
      "source": [
        "model.compile(loss='sparse_categorical_crossentropy',\n",
        "              optimizer='adam',\n",
        "              metrics=['accuracy'])"
      ],
      "execution_count": null,
      "outputs": []
    },
    {
      "cell_type": "code",
      "metadata": {
        "id": "iuEkCf7vGVHy",
        "colab": {
          "base_uri": "https://localhost:8080/"
        },
        "outputId": "d3a2922c-68c0-4888-9082-5ec929291bef"
      },
      "source": [
        "model.fit(train_images,train_labels,epochs=10)"
      ],
      "execution_count": null,
      "outputs": [
        {
          "output_type": "stream",
          "text": [
            "Epoch 1/10\n",
            "1875/1875 [==============================] - 3s 2ms/step - loss: 0.3731 - accuracy: 0.8643\n",
            "Epoch 2/10\n",
            "1875/1875 [==============================] - 3s 2ms/step - loss: 0.3351 - accuracy: 0.8772\n",
            "Epoch 3/10\n",
            "1875/1875 [==============================] - 3s 2ms/step - loss: 0.3118 - accuracy: 0.8867\n",
            "Epoch 4/10\n",
            "1875/1875 [==============================] - 3s 2ms/step - loss: 0.2940 - accuracy: 0.8919\n",
            "Epoch 5/10\n",
            "1875/1875 [==============================] - 3s 2ms/step - loss: 0.2793 - accuracy: 0.8963\n",
            "Epoch 6/10\n",
            "1875/1875 [==============================] - 3s 2ms/step - loss: 0.2674 - accuracy: 0.9010\n",
            "Epoch 7/10\n",
            "1875/1875 [==============================] - 3s 2ms/step - loss: 0.2555 - accuracy: 0.9051\n",
            "Epoch 8/10\n",
            "1875/1875 [==============================] - 3s 2ms/step - loss: 0.2468 - accuracy: 0.9073\n",
            "Epoch 9/10\n",
            "1875/1875 [==============================] - 3s 2ms/step - loss: 0.2371 - accuracy: 0.9111\n",
            "Epoch 10/10\n",
            "1875/1875 [==============================] - 3s 2ms/step - loss: 0.2309 - accuracy: 0.9143\n"
          ],
          "name": "stdout"
        },
        {
          "output_type": "execute_result",
          "data": {
            "text/plain": [
              "<tensorflow.python.keras.callbacks.History at 0x7f73b3012748>"
            ]
          },
          "metadata": {
            "tags": []
          },
          "execution_count": 25
        }
      ]
    },
    {
      "cell_type": "code",
      "metadata": {
        "id": "0VFPEp0dGoNZ",
        "colab": {
          "base_uri": "https://localhost:8080/"
        },
        "outputId": "06f55615-8b42-429e-d25e-02b93157b9e6"
      },
      "source": [
        "test_loss, test_acc= model.evaluate(test_images, test_labels, verbose=1)\n",
        "print(test_loss,test_acc)"
      ],
      "execution_count": null,
      "outputs": [
        {
          "output_type": "stream",
          "text": [
            "313/313 [==============================] - 0s 1ms/step - loss: 70.0688 - accuracy: 0.8600\n",
            "70.06884002685547 0.8600000143051147\n"
          ],
          "name": "stdout"
        }
      ]
    },
    {
      "cell_type": "code",
      "metadata": {
        "id": "Z04lL6MAHM8D",
        "colab": {
          "base_uri": "https://localhost:8080/"
        },
        "outputId": "9af580c8-9c63-4551-b05d-5a14f0159879"
      },
      "source": [
        "test_images.shape"
      ],
      "execution_count": null,
      "outputs": [
        {
          "output_type": "execute_result",
          "data": {
            "text/plain": [
              "(10000, 28, 28)"
            ]
          },
          "metadata": {
            "tags": []
          },
          "execution_count": 29
        }
      ]
    },
    {
      "cell_type": "code",
      "metadata": {
        "id": "rexlUVTKHVO1",
        "colab": {
          "base_uri": "https://localhost:8080/"
        },
        "outputId": "95113398-f4e6-43bb-e6be-5ab3bc168a5b"
      },
      "source": [
        "prediction=model.predict(test_images)\n",
        "print(prediction)"
      ],
      "execution_count": null,
      "outputs": [
        {
          "output_type": "stream",
          "text": [
            "[[0. 0. 0. ... 0. 0. 1.]\n",
            " [0. 0. 1. ... 0. 0. 0.]\n",
            " [0. 1. 0. ... 0. 0. 0.]\n",
            " ...\n",
            " [0. 0. 0. ... 0. 1. 0.]\n",
            " [0. 1. 0. ... 0. 0. 0.]\n",
            " [0. 0. 0. ... 0. 0. 0.]]\n"
          ],
          "name": "stdout"
        }
      ]
    },
    {
      "cell_type": "code",
      "metadata": {
        "id": "7dwON3rAI9nv",
        "colab": {
          "base_uri": "https://localhost:8080/"
        },
        "outputId": "82b181a0-fbe2-4419-ad5b-497d3c6e65ea"
      },
      "source": [
        "print(class_names[np.argmax(prediction[2])])"
      ],
      "execution_count": null,
      "outputs": [
        {
          "output_type": "stream",
          "text": [
            "Trouser\n"
          ],
          "name": "stdout"
        }
      ]
    },
    {
      "cell_type": "code",
      "metadata": {
        "id": "DKqZSiVVJEH0"
      },
      "source": [
        ""
      ],
      "execution_count": null,
      "outputs": []
    }
  ]
}